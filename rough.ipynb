{
 "cells": [
  {
   "cell_type": "code",
   "execution_count": null,
   "metadata": {},
   "outputs": [],
   "source": [
    "import notebook_utils as Q\n",
    "import tkinter as tk\n",
    "from tkinter import scrolledtext\n",
    "from tkinter import PhotoImage\n",
    "from tkinter import ttk\n",
    "import serial\n",
    "import threading\n",
    "import time\n",
    "import sys\n"
   ]
  },
  {
   "cell_type": "code",
   "execution_count": 18,
   "metadata": {},
   "outputs": [
    {
     "name": "stdout",
     "output_type": "stream",
     "text": [
      "fuddichoda\n",
      "ma chuda 3 4\n"
     ]
    },
    {
     "name": "stdout",
     "output_type": "stream",
     "text": [
      "bhosdi ke ruk\n"
     ]
    }
   ],
   "source": [
    "from threading import Timer\n",
    "import time\n",
    "\n",
    "def f1():\n",
    "    print(\"bhosdi ke ruk\")\n",
    "\n",
    "def f2(arg,arg2,arg3):\n",
    "    print(\"ma chuda {} {}\".format(arg,arg2,arg3))\n",
    "\n",
    "def f3():\n",
    "    print(\"fuddichoda\")\n",
    "    time.sleep(3)\n",
    "\n",
    "def timing_trial(total_time):\n",
    "    t1=time.time()\n",
    "    f3()\n",
    "    t2=time.time()\n",
    "    t_rem=total_time - (t2-t1)\n",
    "    t=Timer(t_rem,f1)\n",
    "    t.start()\n",
    "    f2(3,4)\n",
    "\n",
    "timing_trial(6)\n"
   ]
  },
  {
   "cell_type": "code",
   "execution_count": 20,
   "metadata": {},
   "outputs": [
    {
     "name": "stderr",
     "output_type": "stream",
     "text": [
      "Exception in thread Thread-167:\n",
      "Traceback (most recent call last):\n",
      "  File \"C:\\Program Files\\WindowsApps\\PythonSoftwareFoundation.Python.3.11_3.11.2544.0_x64__qbz5n2kfra8p0\\Lib\\threading.py\", line 1045, in _bootstrap_inner\n",
      "    self.run()\n",
      "  File \"C:\\Program Files\\WindowsApps\\PythonSoftwareFoundation.Python.3.11_3.11.2544.0_x64__qbz5n2kfra8p0\\Lib\\threading.py\", line 1401, in run\n",
      "    self.function(*self.args, **self.kwargs)\n",
      "TypeError: __main__.f2() argument after ** must be a mapping, not list\n"
     ]
    }
   ],
   "source": [
    "t=Timer(5,f2,[arg1=5,ar])\n",
    "t.start()"
   ]
  },
  {
   "cell_type": "code",
   "execution_count": 10,
   "metadata": {},
   "outputs": [
    {
     "name": "stdout",
     "output_type": "stream",
     "text": [
      "Time elapsed = 0.000000\n",
      "Time elapsed = 1.004969\n",
      "Time elapsed = 2.005131\n",
      "Time elapsed = 3.005396\n",
      "Time elapsed = 4.005881\n",
      "Time elapsed = 5.006157\n",
      "Time elapsed = 6.006628\n"
     ]
    }
   ],
   "source": [
    "import time\n",
    "\n",
    "t2=time.time()\n",
    "t_rem =10\n",
    "while time.time()-t2 < t_rem - 3 :\n",
    "    print(\"Time elapsed = {:2f}\".format(time.time()-t2))\n",
    "    time.sleep(1)\n",
    "\n",
    "\n"
   ]
  }
 ],
 "metadata": {
  "kernelspec": {
   "display_name": "Python 3",
   "language": "python",
   "name": "python3"
  },
  "language_info": {
   "codemirror_mode": {
    "name": "ipython",
    "version": 3
   },
   "file_extension": ".py",
   "mimetype": "text/x-python",
   "name": "python",
   "nbconvert_exporter": "python",
   "pygments_lexer": "ipython3",
   "version": "3.11.9"
  }
 },
 "nbformat": 4,
 "nbformat_minor": 2
}
