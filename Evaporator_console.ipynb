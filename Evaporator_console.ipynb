{
 "cells": [
  {
   "cell_type": "code",
   "execution_count": 1,
   "metadata": {},
   "outputs": [],
   "source": [
    "import notebook_utils as Q\n",
    "import tkinter as tk\n",
    "from tkinter import scrolledtext\n",
    "from tkinter import PhotoImage\n",
    "from tkinter import ttk\n",
    "import serial\n",
    "import threading\n",
    "import time\n",
    "import sys\n"
   ]
  },
  {
   "cell_type": "code",
   "execution_count": 2,
   "metadata": {},
   "outputs": [],
   "source": [
    "# Q.arduino = serial.Serial('COM6', 9600)  # Change 'COM6' to your Arduino port\n",
    "baud_rate_monitors=9600"
   ]
  },
  {
   "cell_type": "code",
   "execution_count": 3,
   "metadata": {},
   "outputs": [
    {
     "name": "stdout",
     "output_type": "stream",
     "text": [
      "2024-07-19 10:42:46 - 0, 1.9600E-01,5, 0.0000E+00\n"
     ]
    }
   ],
   "source": [
    "# Usage example\n",
    "log_file = 'pressure_log.txt'\n",
    "print(Q.read_last_entry(log_file))\n"
   ]
  }
 ],
 "metadata": {
  "kernelspec": {
   "display_name": "Python 3",
   "language": "python",
   "name": "python3"
  },
  "language_info": {
   "codemirror_mode": {
    "name": "ipython",
    "version": 3
   },
   "file_extension": ".py",
   "mimetype": "text/x-python",
   "name": "python",
   "nbconvert_exporter": "python",
   "pygments_lexer": "ipython3",
   "version": "3.11.9"
  }
 },
 "nbformat": 4,
 "nbformat_minor": 2
}
