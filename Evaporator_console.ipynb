{
 "cells": [
  {
   "cell_type": "code",
   "execution_count": 1,
   "metadata": {},
   "outputs": [],
   "source": [
    "import notebook_utils as Q\n",
    "import time\n"
   ]
  },
  {
   "cell_type": "code",
   "execution_count": 2,
   "metadata": {},
   "outputs": [],
   "source": [
    "arduino=Q.ArduinoConnector('COM6')\n",
    "# arduino.toggle_relay(2,True)\n",
    "arduino.timetoggle_relay(3,5000)\n",
    "arduino.timetoggle_relay(4,2000)\n",
    "time.sleep(1)\n",
    "arduino.reset_arduino()\n",
    "arduino.reset_and_close()\n"
   ]
  },
  {
   "cell_type": "code",
   "execution_count": 3,
   "metadata": {},
   "outputs": [
    {
     "name": "stdout",
     "output_type": "stream",
     "text": [
      "2024-07-19 10:58:15 - 0, 1.9700E-01,5, 0.0000E+00\n"
     ]
    }
   ],
   "source": [
    "# Usage example\n",
    "log_file = 'pressure_log.txt'\n",
    "Q.log_serial_data('COM4',9600,log_file)\n",
    "print(Q.read_last_entry(log_file))\n"
   ]
  },
  {
   "cell_type": "code",
   "execution_count": null,
   "metadata": {},
   "outputs": [],
   "source": []
  }
 ],
 "metadata": {
  "kernelspec": {
   "display_name": "Python 3",
   "language": "python",
   "name": "python3"
  },
  "language_info": {
   "codemirror_mode": {
    "name": "ipython",
    "version": 3
   },
   "file_extension": ".py",
   "mimetype": "text/x-python",
   "name": "python",
   "nbconvert_exporter": "python",
   "pygments_lexer": "ipython3",
   "version": "3.11.9"
  }
 },
 "nbformat": 4,
 "nbformat_minor": 2
}
